{
 "cells": [
  {
   "cell_type": "code",
   "execution_count": 1,
   "metadata": {},
   "outputs": [
    {
     "name": "stderr",
     "output_type": "stream",
     "text": [
      "/Users/ericsmith/anaconda/envs/MachineLearning/lib/python3.6/site-packages/h5py/__init__.py:34: FutureWarning: Conversion of the second argument of issubdtype from `float` to `np.floating` is deprecated. In future, it will be treated as `np.float64 == np.dtype(float).type`.\n",
      "  from ._conv import register_converters as _register_converters\n",
      "Using TensorFlow backend.\n"
     ]
    }
   ],
   "source": [
    "import pandas as pd\n",
    "import numpy as np\n",
    "from numpy import array\n",
    "from skimage.io import imshow\n",
    "from sklearn import metrics as mt\n",
    "from keras.preprocessing.image import ImageDataGenerator\n",
    "from matplotlib import pyplot as plt\n",
    "from keras.layers import Reshape\n",
    "from keras.layers import Dense, Dropout, Activation, Flatten\n",
    "from keras.layers import Conv2D, MaxPooling2D\n",
    "from keras.models import Sequential\n",
    "import seaborn as sns\n",
    "from keras.models import load_model"
   ]
  },
  {
   "cell_type": "code",
   "execution_count": 2,
   "metadata": {},
   "outputs": [],
   "source": [
    "train = pd.read_pickle(\"./Data/train.pickle\")\n",
    "test = pd.read_pickle(\"./Data/test.pickle\")\n",
    "classes = open('./Data/classes.txt', 'r').read().split()\n",
    "\n",
    "img_wh = 50"
   ]
  },
  {
   "cell_type": "markdown",
   "metadata": {},
   "source": [
    "For some reason, the extract.py script left some pixel values as greater than 0 but less than 1."
   ]
  },
  {
   "cell_type": "code",
   "execution_count": 3,
   "metadata": {},
   "outputs": [
    {
     "data": {
      "text/plain": [
       "(2500,)"
      ]
     },
     "execution_count": 3,
     "metadata": {},
     "output_type": "execute_result"
    }
   ],
   "source": [
    "train[0]['features'].shape"
   ]
  },
  {
   "cell_type": "code",
   "execution_count": 4,
   "metadata": {},
   "outputs": [],
   "source": [
    "# put more instances in testing to make it an 80/20 split\n",
    "split = int((len(train) + len(test)) * .8)\n",
    "test = np.append(test, train[split:])\n",
    "train = train[:split-1]"
   ]
  },
  {
   "cell_type": "code",
   "execution_count": 5,
   "metadata": {},
   "outputs": [],
   "source": [
    "X_train = []\n",
    "X_test = []\n",
    "y_train = []\n",
    "y_test = []\n",
    "y_train_ohe = []\n",
    "y_test_ohe = []\n",
    "\n",
    "for elem in train:\n",
    "    X_train.append(elem['features'])\n",
    "    y_train.append(np.argmax(elem['label'], axis=0))\n",
    "    y_train_ohe.append(elem['label'])\n",
    "    \n",
    "for elem in test:\n",
    "    X_test.append(elem['features'])\n",
    "    y_test.append(np.argmax(elem['label'], axis=0))\n",
    "    y_test_ohe.append(elem['label'])\n",
    "    \n",
    "X_train = array(X_train).reshape((-1,img_wh,img_wh))\n",
    "y_train = array(y_train)\n",
    "y_train_ohe = array(y_train_ohe)\n",
    "X_test = array(X_test).reshape((-1,img_wh,img_wh))\n",
    "y_test = array(y_test)\n",
    "y_test_ohe = array(y_test_ohe)\n",
    "\n",
    "NUM_CLASSES = len(y_train_ohe[0])"
   ]
  },
  {
   "cell_type": "code",
   "execution_count": 6,
   "metadata": {},
   "outputs": [
    {
     "name": "stdout",
     "output_type": "stream",
     "text": [
      "(121192, 50, 50)\n",
      "(30299, 50, 50)\n",
      "(121192, 17)\n",
      "(30299, 17)\n"
     ]
    }
   ],
   "source": [
    "print(X_train.shape)\n",
    "print(X_test.shape)\n",
    "print(y_train_ohe.shape)\n",
    "print(y_test_ohe.shape)"
   ]
  },
  {
   "cell_type": "code",
   "execution_count": 7,
   "metadata": {},
   "outputs": [
    {
     "data": {
      "image/png": "[encoded data removed]",
      "text/plain": [
       "<matplotlib.figure.Figure at 0x12810ae10>"
      ]
     },
     "metadata": {},
     "output_type": "display_data"
    },
    {
     "name": "stdout",
     "output_type": "stream",
     "text": [
      "class: [\n"
     ]
    },
    {
     "data": {
      "image/png": "[encoded data removed]",
      "text/plain": [
       "<matplotlib.figure.Figure at 0x13003a630>"
      ]
     },
     "metadata": {},
     "output_type": "display_data"
    },
    {
     "name": "stdout",
     "output_type": "stream",
     "text": [
      "class: 1\n"
     ]
    },
    {
     "data": {
      "image/png": "[encoded data removed]",
      "text/plain": [
       "<matplotlib.figure.Figure at 0x12c206080>"
      ]
     },
     "metadata": {},
     "output_type": "display_data"
    },
    {
     "name": "stdout",
     "output_type": "stream",
     "text": [
      "class: 6\n"
     ]
    }
   ],
   "source": [
    "for i in range(3):\n",
    "    plt.imshow(X_train[i].squeeze())\n",
    "    plt.show()\n",
    "    print(\"class: \" + classes[y_train[i]])"
   ]
  },
  {
   "cell_type": "code",
   "execution_count": 8,
   "metadata": {},
   "outputs": [
    {
     "name": "stdout",
     "output_type": "stream",
     "text": [
      "(121192, 50, 50, 1)\n",
      "Epoch 1/1\n",
      "CPU times: user 15min 15s, sys: 1min 20s, total: 16min 35s\n",
      "Wall time: 4min 38s\n"
     ]
    }
   ],
   "source": [
    "%%time \n",
    "\n",
    "datagen = ImageDataGenerator(featurewise_center=False,\n",
    "    samplewise_center=False,\n",
    "    featurewise_std_normalization=False,\n",
    "    samplewise_std_normalization=False,\n",
    "    zca_whitening=False,\n",
    "    rotation_range=5, # used, Int. Degree range for random rotations.\n",
    "    width_shift_range=0.1, # used, Float (fraction of total width). Range for random horizontal shifts.\n",
    "    height_shift_range=0.1, # used,  Float (fraction of total height). Range for random vertical shifts.\n",
    "    shear_range=0., # Float. Shear Intensity (Shear angle in counter-clockwise direction as radians)\n",
    "    zoom_range=0.,\n",
    "    channel_shift_range=0.,\n",
    "    fill_mode='nearest',\n",
    "    cval=0.,\n",
    "    horizontal_flip=False,\n",
    "    vertical_flip=False,\n",
    "    rescale=None)\n",
    "\n",
    "X_t = np.expand_dims(X_train,axis=-1)\n",
    "X_s = np.expand_dims(X_test,axis=-1)\n",
    "\n",
    "datagen.fit(X_t)\n",
    "\n",
    "cnn = Sequential()\n",
    "cnn.add(Conv2D(filters=32,\n",
    "                input_shape = (img_wh,img_wh, 1),\n",
    "                kernel_size=(3,3), \n",
    "                padding='same', \n",
    "                activation='relu')) # more compact syntax\n",
    "\n",
    "cnn.add(Conv2D(filters=64,\n",
    "                kernel_size=(3,3), \n",
    "                padding='same', \n",
    "                activation='relu')) # more compact syntax\n",
    "cnn.add(MaxPooling2D(pool_size=(2, 2), data_format=\"channels_last\"))\n",
    "    \n",
    "\n",
    "# add one layer on flattened output\n",
    "cnn.add(Dropout(0.25)) # add some dropout for regularization after conv layers\n",
    "cnn.add(Flatten())\n",
    "cnn.add(Dense(128, activation='relu'))\n",
    "cnn.add(Dropout(0.5)) # add some dropout for regularization, again!\n",
    "cnn.add(Dense(NUM_CLASSES, activation='softmax'))\n",
    "\n",
    "# Let's train the model \n",
    "cnn.compile(loss='categorical_crossentropy', # 'categorical_crossentropy' 'mean_squared_error'\n",
    "              optimizer='rmsprop', # 'adadelta' 'rmsprop'\n",
    "              metrics=['accuracy'])\n",
    "\n",
    "# the flow method yields batches of images indefinitely, with the given transformations\n",
    "cnn.fit_generator(datagen.flow(X_t, y_train_ohe, batch_size=128), \n",
    "                   steps_per_epoch=int(len(X_train)/1024), # how many generators to go through per epoch\n",
    "                   epochs=1, verbose=5,\n",
    "                   validation_data=(X_s, y_test_ohe)\n",
    "                  )"
   ]
  },
  {
   "cell_type": "code",
   "execution_count": 13,
   "metadata": {},
   "outputs": [],
   "source": [
    "def summarize_net(net, X_test, y_test, title_text=''):\n",
    "    plt.figure(figsize=(15,5))\n",
    "    yhat = np.argmax(net.predict(np.expand_dims(X_test,axis=-1)), axis=1)\n",
    "    acc = mt.accuracy_score(y_test,yhat)\n",
    "    cm = mt.confusion_matrix(y_test,yhat)\n",
    "    cm = cm/np.sum(cm,axis=1)[:,np.newaxis]\n",
    "    sns.heatmap(cm, annot=True, fmt='.2f', xticklabels=classes, yticklabels=classes)\n",
    "    plt.title(title_text+'{:.4f}'.format(acc))\n",
    "    plt.show()"
   ]
  },
  {
   "cell_type": "code",
   "execution_count": 14,
   "metadata": {},
   "outputs": [
    {
     "data": {
      "text/plain": [
       "<matplotlib.figure.Figure at 0x129fe0c18>"
      ]
     },
     "metadata": {},
     "output_type": "display_data"
    },
    {
     "data": {
      "text/plain": [
       "<matplotlib.figure.Figure at 0x12a6284a8>"
      ]
     },
     "metadata": {},
     "output_type": "display_data"
    },
    {
     "data": {
      "image/png": "[encoded data removed]",
      "text/plain": [
       "<matplotlib.figure.Figure at 0x12810a7f0>"
      ]
     },
     "metadata": {},
     "output_type": "display_data"
    }
   ],
   "source": [
    "summarize_net(cnn, X_test, y_test, title_text='Initial Model:')"
   ]
  },
  {
   "cell_type": "code",
   "execution_count": 15,
   "metadata": {},
   "outputs": [],
   "source": [
    "cnn.save('cnn_11_10.h5')"
   ]
  },
  {
   "cell_type": "markdown",
   "metadata": {
    "collapsed": true
   },
   "source": [
    "----"
   ]
  },
  {
   "cell_type": "code",
   "execution_count": 33,
   "metadata": {},
   "outputs": [],
   "source": [
    "import cv2\n",
    "import numpy as np\n",
    "from matplotlib import pyplot as plt\n",
    "\n",
    "# helper function for sorting sub images by X value\n",
    "def sort_list(list1, list2):\n",
    "    zipped_pairs = zip(list2, list1)\n",
    "    z = [x for _, x in sorted(zipped_pairs)]\n",
    "\n",
    "    return z\n",
    "\n",
    "\n",
    "\"\"\"\n",
    "input: path to image file\n",
    "output: a unique image for each character detected in an image\n",
    "\"\"\"\n",
    "def get_split_images(image_full_path):\n",
    "    with open(image_full_path, 'rb') as img_stream:\n",
    "        file_bytes = np.asarray(bytearray(img_stream.read()), dtype=np.uint8)\n",
    "        im = cv2.imdecode(np.fromstring(file_bytes,dtype=np.uint8),cv2.IMREAD_COLOR)\n",
    "        # im = cv2.imread(image,0)\n",
    "    \n",
    "        # im = cv2.imdecode(np.frombuffer(image,dtype=np.uint8),0)\n",
    "    \n",
    "        imgray = cv2.cvtColor(im,cv2.COLOR_BGR2GRAY) # convert to greyscale\n",
    "    \n",
    "        # detect contours\n",
    "        ret,thresh = cv2.threshold(imgray,127,255,0)\n",
    "        im2, contours, hierarchy = cv2.findContours(thresh, cv2.RETR_TREE, cv2.CHAIN_APPROX_SIMPLE)\n",
    "    \n",
    "        output_contours = []\n",
    "        output_hierarchy = []\n",
    "        output_xs = []\n",
    "    \n",
    "        # for each contour found\n",
    "        for i, contour in enumerate(contours):\n",
    "    \n",
    "            # get rectangle bounding contour\n",
    "            [x,y,w,h] = cv2.boundingRect(contour)\n",
    "    \n",
    "            # discard areas that are too large\n",
    "            if h > 300 and w > 300:\n",
    "                continue\n",
    "    \n",
    "            # discard areas that are too small\n",
    "            if h < 40 or w < 40:\n",
    "                continue\n",
    "    \n",
    "            roi = im[y:y + h, x:x + w]\n",
    "    \n",
    "            # store the character's image, its hierarchy, and its X value\n",
    "            output_contours.append(roi)\n",
    "            output_hierarchy.append(hierarchy[0,i,3])\n",
    "            output_xs.append(x)\n",
    "    \n",
    "    \n",
    "        # sort contours by X values\n",
    "        output_contours = sort_list(output_contours, output_xs)\n",
    "        output_hierarchy = sort_list(output_hierarchy, output_xs)\n",
    "    \n",
    "        # find the top level contour\n",
    "        min_hierarchy = min(output_hierarchy)\n",
    "    \n",
    "        result = []\n",
    "        # output contours that are on the top level\n",
    "        for i in range(len(output_contours)):\n",
    "            if output_hierarchy[i] == min_hierarchy:\n",
    "                # cv2.imwrite(str(i) + '.jpg', output_contours[i])\n",
    "                b, g, r = cv2.split(output_contours[i])\n",
    "                a = np.ones(b.shape, dtype=b.dtype) * 50\n",
    "\n",
    "                final_img = cv2.merge((b, g, r))\n",
    "                \n",
    "                final_img = cv2.normalize(final_img, None, alpha = 0, beta = 1, norm_type = cv2.NORM_MINMAX, dtype = cv2.CV_32F)\n",
    "                \n",
    "                final_img = cv2.resize(final_img,(50,50))\n",
    "            \n",
    "                final_img = cv2.cvtColor(final_img,cv2.COLOR_BGR2GRAY)\n",
    "\n",
    "                result.append(np.expand_dims(np.expand_dims(final_img,axis=-1),axis=0))\n",
    "    \n",
    "        return result"
   ]
  },
  {
   "cell_type": "code",
   "execution_count": 35,
   "metadata": {},
   "outputs": [
    {
     "name": "stdout",
     "output_type": "stream",
     "text": [
      "]\n",
      "-\n",
      "1\n"
     ]
    },
    {
     "name": "stderr",
     "output_type": "stream",
     "text": [
      "/Users/ericsmith/anaconda/envs/MachineLearning/lib/python3.6/site-packages/ipykernel_launcher.py:20: DeprecationWarning: The binary mode of fromstring is deprecated, as it behaves surprisingly on unicode inputs. Use frombuffer instead\n"
     ]
    }
   ],
   "source": [
    "input_image = './Data/test.jpeg'\n",
    "# get_split_images(input_image)\n",
    "for image in get_split_images(input_image):\n",
    "#     plt.imshow(image)\n",
    "#     plt.show()\n",
    "    print(classes[np.argmax(cnn.predict(image))])"
   ]
  },
  {
   "cell_type": "code",
   "execution_count": null,
   "metadata": {},
   "outputs": [],
   "source": []
  }
 ],
 "metadata": {
  "kernelspec": {
   "display_name": "Python 3",
   "language": "python",
   "name": "python3"
  },
  "language_info": {
   "codemirror_mode": {
    "name": "ipython",
    "version": 3
   },
   "file_extension": ".py",
   "mimetype": "text/x-python",
   "name": "python",
   "nbconvert_exporter": "python",
   "pygments_lexer": "ipython3",
   "version": "3.6.2"
  }
 },
 "nbformat": 4,
 "nbformat_minor": 2
}
