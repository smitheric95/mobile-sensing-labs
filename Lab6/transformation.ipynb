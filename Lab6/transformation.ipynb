{
 "cells": [
  {
   "cell_type": "markdown",
   "metadata": {},
   "source": [
    "# Data augmentation code\n",
    "\n",
    "\n",
    "This is the code for the data augmentation used in the paper:\n",
    "\n",
    "J. Sueiras, et al.: \"Using Synthetic Character Database for Training Deep Learning Models Applied to Offline Handwritten Character Recognition\", Proc. Intl. Conf. Intelligent Systems Design and Applications (ISDA), Springer, Porto (Portugal), 2016.   \n"
   ]
  },
  {
   "cell_type": "code",
   "execution_count": 50,
   "metadata": {},
   "outputs": [],
   "source": [
    "from __future__ import print_function\n",
    "\n",
    "import numpy as np\n",
    "import pandas as pd\n",
    "import cv2\n",
    "import matplotlib.pyplot as plt\n",
    "from scipy.misc import imresize, imrotate, imsave \n",
    "\n",
    "# display plots in this notebook\n",
    "%matplotlib inline\n",
    "\n",
    "# set display defaults\n",
    "plt.rcParams['figure.figsize'] = (10, 10) \n",
    "plt.rcParams['image.interpolation'] = 'nearest'\n",
    "plt.rcParams['image.cmap'] = 'gray' \n",
    "\n",
    "\n",
    "path = './curated/'"
   ]
  },
  {
   "cell_type": "code",
   "execution_count": 51,
   "metadata": {},
   "outputs": [
    {
     "name": "stdout",
     "output_type": "stream",
     "text": [
      "['!', '#', '$', '%', '&', '(', ')', '*', '+', ',', '-', '.', '/', '0', '1', '2', '3', '4', '5', '6', '7', '8', '9', ':', ';', '<', '=', '>', '?', '@', 'A', 'B', 'C', 'D', 'E', 'F', 'G', 'H', 'I', 'J', 'K', 'L', 'M', 'N', 'O', 'P', 'Q', 'R', 'S', 'T', 'U', 'V', 'W', 'X', 'Y', 'Z', ']', '^', '_', '`', 'a', 'b', 'c', 'd', 'e', 'f', 'g', 'h', 'i', 'j', 'k', 'l', 'm', 'n', 'o', 'p', 'q', 'r', 's', 't', 'u', 'v', 'w', 'x', 'y', 'z', '|', '~']\n",
      "(61578, 64, 64)\n",
      "(61578,)\n"
     ]
    }
   ],
   "source": [
    "#Read characters only a-z and A-Z characters\n",
    "#PENDING: special characters and digits\n",
    "\n",
    "from os import listdir\n",
    "from os.path import isfile, join\n",
    "\n",
    "# character_curated = [ord(c) for c in 'abcdefghijklmnopqrstuvwxyzABCDEFGHIJKLMNOPQRSTUVWXYZ']\n",
    "character_curated = [ord(c) for c in '!#$%&()*+,-./0123456789:;<=>?@ABCDEFGHIJKLMNOPQRSTUVWXYZ]^_`abcdefghijklmnopqrstuvwxyz|~']\n",
    "print([chr(i) for i in character_curated])\n",
    "\n",
    "X = []\n",
    "y = []\n",
    "for i in character_curated:\n",
    "    path_img = path + str(i) + '/'\n",
    "    for file_name in [f for f in listdir(path_img) if isfile(join(path_img, f))]:\n",
    "        img = cv2.imread(path_img + file_name, 0)\n",
    "        #img = cv2.resize(img,(32, 32), interpolation = cv2.INTER_AREA)\n",
    "        X += [img]\n",
    "        y += [i]\n",
    "\n",
    "X = np.array(X, dtype=np.uint8)\n",
    "y = np.array(y, dtype=np.uint8)\n",
    "print(X.shape)\n",
    "print(y.shape)"
   ]
  },
  {
   "cell_type": "code",
   "execution_count": 52,
   "metadata": {},
   "outputs": [],
   "source": [
    "#\n",
    "#Select a subset of characters\n",
    "#\n",
    "from sklearn.utils import shuffle\n",
    "from sklearn.cross_validation import train_test_split\n",
    "from sklearn import preprocessing\n",
    "\n",
    "def prepare_data_char_subset(X, y):\n",
    "    '''\n",
    "    Definition: Create train test data to model it\n",
    "        - shuffle\n",
    "        - separate train test\n",
    "        - encode target to dummy vars\n",
    "    Parameters:\n",
    "        X: images[n_images, x_size, y_size]\n",
    "        y: characters[n_images, 1]\n",
    "        char_select: dictionary of characters selected\n",
    "        augmentation_fuction\n",
    "    \n",
    "    usage:\n",
    "        prepare_data_char_subset(X, y, set(['1','0']), augmentation_fuction = lambda: augmentate01(param1, param2=p2) )\n",
    "        \n",
    "    return:\n",
    "        X_train, y_train, X_test, y_test, labels_dictionary\n",
    "    '''\n",
    "    X_select = X\n",
    "    y_select = y\n",
    "\n",
    "    #Shuffle\n",
    "    X_select, y_select = shuffle(X_select, y_select, random_state=0)\n",
    "    \n",
    "    \n",
    "    #Separate train test\n",
    "    X_train, X_test, y_train, y_test = train_test_split(X_select, y_select, test_size=0.20, random_state=42)\n",
    "    print(X_train.shape)\n",
    "    X_train = np.reshape(X_train,  (X_train.shape[0],1,X_train.shape[1],X_train.shape[2]))\n",
    "    X_test = np.reshape(X_test,  (X_test.shape[0],1,X_test.shape[1],X_test.shape[2]))\n",
    "    \n",
    "    print('Train shape: ',X_train.shape, y_train.shape)\n",
    "    print('Test shape: ',X_test.shape, y_test.shape)\n",
    "    print('Num classes: ', len(set(y_train)))\n",
    "    print('Classes: ', set(y_train))\n",
    "    \n",
    "    return X_train, y_train, X_test, y_test\n"
   ]
  },
  {
   "cell_type": "code",
   "execution_count": 53,
   "metadata": {},
   "outputs": [
    {
     "name": "stdout",
     "output_type": "stream",
     "text": [
      "(49262, 64, 64)\n",
      "Train shape:  (49262, 1, 64, 64) (49262,)\n",
      "Test shape:  (12316, 1, 64, 64) (12316,)\n",
      "Num classes:  88\n",
      "Classes:  {33, 35, 36, 37, 38, 40, 41, 42, 43, 44, 45, 46, 47, 48, 49, 50, 51, 52, 53, 54, 55, 56, 57, 58, 59, 60, 61, 62, 63, 64, 65, 66, 67, 68, 69, 70, 71, 72, 73, 74, 75, 76, 77, 78, 79, 80, 81, 82, 83, 84, 85, 86, 87, 88, 89, 90, 93, 94, 95, 96, 97, 98, 99, 100, 101, 102, 103, 104, 105, 106, 107, 108, 109, 110, 111, 112, 113, 114, 115, 116, 117, 118, 119, 120, 121, 122, 124, 126}\n",
      "(49262, 1, 64, 64) (12316, 1, 64, 64)\n"
     ]
    }
   ],
   "source": [
    "#Separate train test data\n",
    "X_train, y_train, X_test, y_test = prepare_data_char_subset(X, y)\n",
    "\n",
    "print(X_train.shape, X_test.shape)"
   ]
  },
  {
   "cell_type": "markdown",
   "metadata": {},
   "source": [
    "## Generate new data\n",
    "    - New characters concatenating in the border of the character the start and/or end of other characters\n",
    "    - new characters moving up /down characters (rescale and place in the selected positions). Classes:\n",
    "        - Medium or high or low: a, c, e, i, m, n, o, r, s, u, v, w, x, z\n",
    "        - Low - Medium: g, j, p, q, y \n",
    "        - Medium-High: b, d, f, h, k, l, t\n",
    "    - Two ways to concatenate: with separation or withow separation (the border are aprox 4pixels)  \n",
    "    - concatenate original characters with original characters and moved characters with moved characters \n",
    "  "
   ]
  },
  {
   "cell_type": "code",
   "execution_count": 54,
   "metadata": {},
   "outputs": [],
   "source": [
    "def move_characters(X, y):\n",
    "    X_moved=[]\n",
    "    y_moved=[]\n",
    "    \n",
    "    for i,y_value in enumerate(y):\n",
    "        y_char = chr(y_value)\n",
    "        if y_char in ['a', 'c', 'e', 'i', 'm', 'n', 'o', 'r', 's', 'u', 'v', 'w', 'x', 'z']:\n",
    "            #Resize to 40x40 and place botton, medium and top \n",
    "            img1 = imresize(X[i,0,:,:],(46,46))\n",
    "            \n",
    "            img_center = np.zeros((64,64))\n",
    "            img_center[9:55, 9:55] = img1 \n",
    "            X_moved += [img_center]\n",
    "            y_moved += [y_value]\n",
    "            \n",
    "            img_top = np.zeros((64,64))\n",
    "            img_top[:46, 9:55] = img1 \n",
    "            X_moved += [img_top]\n",
    "            y_moved += [y_value]\n",
    "\n",
    "            img_botton = np.zeros((64,64))\n",
    "            img_botton[18:, 9:55] = img1 \n",
    "            X_moved += [img_botton]\n",
    "            y_moved += [y_value]\n",
    "\n",
    "        elif y_char in ['g', 'j', 'p', 'q', 'y']:\n",
    "            #Resize to 52x52 and place botton\n",
    "            img1 = imresize(X[i,0,:,:],(46,46))\n",
    "            img_botton = np.zeros((64,64))\n",
    "            img_botton[18:, 9:55] = img1 \n",
    "            X_moved += [img_botton]\n",
    "            y_moved += [y_value]\n",
    "\n",
    "        elif y_char in ['b', 'd', 'f', 'h', 'k', 'l', 't', 'A', 'B', 'C', 'D', 'E',\n",
    "                        'F', 'G', 'H', 'I', 'J', 'K', 'L', 'M', 'N', 'O', 'P', 'Q', \n",
    "                        'R', 'S', 'T', 'U', 'V', 'W', 'X', 'Y', 'Z']:\n",
    "            #Resize to 52x52 and place on top\n",
    "            img1 = imresize(X[i,0,:,:],(46,46))            \n",
    "            img_top = np.zeros((64,64))\n",
    "            img_top[:46, 9:55] = img1 \n",
    "            X_moved += [img_top]\n",
    "            y_moved += [y_value]\n",
    "\n",
    "    X_moved = np.array(X_moved, dtype=np.float16)\n",
    "    y_moved = np.array(y_moved)\n",
    "    X_moved = np.reshape(X_moved, (X_moved.shape[0], 1, X_moved.shape[1], X_moved.shape[2]) )\n",
    "    return X_moved, y_moved\n",
    "\n"
   ]
  },
  {
   "cell_type": "code",
   "execution_count": 55,
   "metadata": {},
   "outputs": [
    {
     "name": "stdout",
     "output_type": "stream",
     "text": [
      "(117, 1, 64, 64) (117,)\n"
     ]
    },
    {
     "name": "stderr",
     "output_type": "stream",
     "text": [
      "/Users/ericsmith/anaconda/envs/MachineLearning/lib/python3.6/site-packages/ipykernel_launcher.py:38: DeprecationWarning: `imresize` is deprecated!\n",
      "`imresize` is deprecated in SciPy 1.0.0, and will be removed in 1.2.0.\n",
      "Use ``skimage.transform.resize`` instead.\n",
      "/Users/ericsmith/anaconda/envs/MachineLearning/lib/python3.6/site-packages/ipykernel_launcher.py:28: DeprecationWarning: `imresize` is deprecated!\n",
      "`imresize` is deprecated in SciPy 1.0.0, and will be removed in 1.2.0.\n",
      "Use ``skimage.transform.resize`` instead.\n",
      "/Users/ericsmith/anaconda/envs/MachineLearning/lib/python3.6/site-packages/ipykernel_launcher.py:9: DeprecationWarning: `imresize` is deprecated!\n",
      "`imresize` is deprecated in SciPy 1.0.0, and will be removed in 1.2.0.\n",
      "Use ``skimage.transform.resize`` instead.\n",
      "  if __name__ == '__main__':\n"
     ]
    }
   ],
   "source": [
    "#Test and show\n",
    "X_train_moved, y_train_moved = move_characters(X_train[4347:4449], y_train[4347:4449])\n",
    "print(X_train_moved.shape, y_train_moved.shape)\n",
    "\n",
    "# fig = plt.figure()\n",
    "# pos_ini=0\n",
    "# n_chars=15\n",
    "# for i,index in enumerate(xrange(pos_ini,pos_ini+n_chars)):           \n",
    "#     fig.add_subplot(n_chars/3,3,i)\n",
    "#     plt.imshow(X_train_moved[i,0,:,:])\n",
    "\n"
   ]
  },
  {
   "cell_type": "code",
   "execution_count": 56,
   "metadata": {},
   "outputs": [
    {
     "name": "stdout",
     "output_type": "stream",
     "text": [
      "{101: 2374, 97: 1754, 111: 1639, 105: 1608, 110: 1541, 116: 1400, 114: 1388, 115: 1246, 108: 1154, 117: 1062, 69: 944, 79: 922, 48: 893, 100: 867, 55: 848, 56: 847, 50: 846, 51: 842, 57: 836, 52: 817, 49: 799, 104: 765, 53: 753, 54: 751, 65: 744, 109: 717, 73: 708, 99: 698, 82: 666, 112: 647, 83: 646, 103: 603, 84: 571, 76: 564, 78: 559, 121: 548, 119: 547, 67: 514, 80: 498, 102: 493, 98: 491, 72: 446, 118: 445, 68: 436, 107: 433, 75: 412, 87: 405, 70: 399, 66: 397, 77: 395, 122: 391, 74: 386, 46: 386, 71: 374, 45: 369, 90: 361, 85: 359, 120: 359, 89: 356, 113: 351, 106: 344, 81: 338, 86: 327, 41: 289, 88: 287, 40: 281, 44: 260, 58: 227, 47: 217, 61: 208, 59: 182, 33: 169, 36: 151, 37: 149, 63: 147, 60: 129, 62: 127, 43: 122, 35: 117, 42: 97, 38: 88, 93: 86, 94: 72, 64: 68, 124: 66, 95: 61, 126: 49, 96: 34}\n"
     ]
    }
   ],
   "source": [
    "#Count cases by target value\n",
    "from collections import Counter\n",
    "\n",
    "c = Counter(y_train)\n",
    "d_num_cases = dict(c.most_common())\n",
    "print(d_num_cases)"
   ]
  },
  {
   "cell_type": "code",
   "execution_count": 57,
   "metadata": {},
   "outputs": [
    {
     "name": "stderr",
     "output_type": "stream",
     "text": [
      "/Users/ericsmith/anaconda/envs/MachineLearning/lib/python3.6/site-packages/ipykernel_launcher.py:38: DeprecationWarning: `imresize` is deprecated!\n",
      "`imresize` is deprecated in SciPy 1.0.0, and will be removed in 1.2.0.\n",
      "Use ``skimage.transform.resize`` instead.\n",
      "/Users/ericsmith/anaconda/envs/MachineLearning/lib/python3.6/site-packages/ipykernel_launcher.py:9: DeprecationWarning: `imresize` is deprecated!\n",
      "`imresize` is deprecated in SciPy 1.0.0, and will be removed in 1.2.0.\n",
      "Use ``skimage.transform.resize`` instead.\n",
      "  if __name__ == '__main__':\n",
      "/Users/ericsmith/anaconda/envs/MachineLearning/lib/python3.6/site-packages/ipykernel_launcher.py:28: DeprecationWarning: `imresize` is deprecated!\n",
      "`imresize` is deprecated in SciPy 1.0.0, and will be removed in 1.2.0.\n",
      "Use ``skimage.transform.resize`` instead.\n"
     ]
    },
    {
     "name": "stdout",
     "output_type": "stream",
     "text": [
      "(68417, 1, 64, 64) (68417,)\n",
      "(17117, 1, 64, 64) (17117,)\n"
     ]
    }
   ],
   "source": [
    "X_train_moved, y_train_moved = move_characters(X_train, y_train)\n",
    "print(X_train_moved.shape, y_train_moved.shape)\n",
    "\n",
    "X_test_moved, y_test_moved = move_characters(X_test, y_test)\n",
    "print(X_test_moved.shape, y_test_moved.shape)"
   ]
  },
  {
   "cell_type": "markdown",
   "metadata": {
    "collapsed": true
   },
   "source": [
    "## Add borders\n",
    "    - Include in the border of each character the start/end of other letters 1 and 3 pixels\n",
    "    - Create borders: select random characters and identify an cut borders of 2 and 4 pixels in each side\n",
    "    - For each character select a random border and generate new character. Dont move the position of the original character\n",
    "    - For each character identify how many need to generate to obtain a balanced sample of 1000\n"
   ]
  },
  {
   "cell_type": "code",
   "execution_count": 58,
   "metadata": {},
   "outputs": [],
   "source": [
    "#create 64x8 borders left and rigth\n",
    "def obtain_borders(img, treshold=0.):\n",
    "    #Identify border of the letter\n",
    "    border_left = img[:,:8]\n",
    "    left_position = 0\n",
    "    for i in range(0,56,1):\n",
    "        if np.max(img[:,i]) > treshold:\n",
    "            left_position = i\n",
    "            break\n",
    "    rigth_position = 64\n",
    "    border_rigth = img[:,56:]\n",
    "    for i in range(63,8,-1):\n",
    "        if np.max(img[:,i]) > treshold:\n",
    "            rigth_position = i\n",
    "            break\n",
    "    return img[:,left_position:left_position+8], img[:,rigth_position-8:rigth_position], img[:,left_position:rigth_position]\n"
   ]
  },
  {
   "cell_type": "code",
   "execution_count": 59,
   "metadata": {},
   "outputs": [
    {
     "data": {
      "text/plain": [
       "<matplotlib.image.AxesImage at 0x12e4547f0>"
      ]
     },
     "execution_count": 59,
     "metadata": {},
     "output_type": "execute_result"
    },
    {
     "data": {
      "image/png": "[encoded data removed]",
      "text/plain": [
       "<matplotlib.figure.Figure at 0x12e591f98>"
      ]
     },
     "metadata": {},
     "output_type": "display_data"
    }
   ],
   "source": [
    "# Test\n",
    "border_left, border_rigth, char_adjusted = obtain_borders(X_train[0,0,:,:])\n",
    "\n",
    "f = plt.figure()\n",
    "\n",
    "a = f.add_subplot(1,4,1)\n",
    "plt.imshow(X_train[0,0,:,:])\n",
    "\n",
    "a = f.add_subplot(1,4,2)\n",
    "plt.imshow(border_left)\n",
    "\n",
    "a = f.add_subplot(1,4,3)\n",
    "plt.imshow(border_rigth)\n",
    "\n",
    "a = f.add_subplot(1,4,4)\n",
    "plt.imshow(char_adjusted)\n",
    "\n"
   ]
  },
  {
   "cell_type": "code",
   "execution_count": 60,
   "metadata": {},
   "outputs": [],
   "source": [
    "train_left_borders = []\n",
    "train_rigth_borders = []\n",
    "train_img_no_borders = []\n",
    "for i,y_value in enumerate(y_train):\n",
    "    l, r, c = obtain_borders(X_train[i,0,:,:], treshold=0.)\n",
    "    train_left_borders += [l]\n",
    "    train_rigth_borders += [r]\n",
    "    train_img_no_borders += [c]\n",
    "train_left_borders = np.array(train_left_borders)\n",
    "train_rigth_borders = np.array(train_rigth_borders)\n",
    "\n",
    "    \n",
    "test_left_borders = []\n",
    "test_rigth_borders = []\n",
    "test_img_no_borders = []\n",
    "for i,y_value in enumerate(y_test):\n",
    "    l, r, c = obtain_borders(X_test[i,0,:,:], treshold=0.)\n",
    "    test_left_borders += [l]\n",
    "    test_rigth_borders += [r]\n",
    "    test_img_no_borders += [c]\n",
    "test_left_borders = np.array(test_left_borders)\n",
    "test_rigth_borders = np.array(test_rigth_borders)\n"
   ]
  },
  {
   "cell_type": "code",
   "execution_count": 61,
   "metadata": {},
   "outputs": [
    {
     "data": {
      "image/png": "[encoded data removed]",
      "text/plain": [
       "<matplotlib.figure.Figure at 0x12e33b588>"
      ]
     },
     "metadata": {},
     "output_type": "display_data"
    }
   ],
   "source": [
    "# Example of results\n",
    "f = plt.figure()\n",
    "for i in range(24):\n",
    "    a = f.add_subplot(6,4,i+1)\n",
    "    plt.imshow(train_left_borders[i,:,:])\n"
   ]
  },
  {
   "cell_type": "markdown",
   "metadata": {},
   "source": [
    "## Join the borders to the original images"
   ]
  },
  {
   "cell_type": "code",
   "execution_count": 62,
   "metadata": {},
   "outputs": [],
   "source": [
    "import random\n",
    "\n",
    "X_trn_borders_left = []\n",
    "X_trn_borders_rigth = []\n",
    "y_trn_borders_left = []\n",
    "y_trn_borders_rigth = []\n",
    "def generate_borders_images(X,y):\n",
    "    X_left = []\n",
    "    y_left = []\n",
    "    X_rigth = []\n",
    "    y_rigth = []\n",
    "    for i,y_value in enumerate(y):\n",
    "        y_char = y_value\n",
    "        #n_images = int(10000 / d_num_cases[y_char]) # balanced sample\n",
    "        n_images = int(30000 / (d_num_cases[y_char])) # Reduce by 2 the balanced sample to reduce sample\n",
    "        \n",
    "        for j in range(int(n_images/2)): # two images each iteration\n",
    "            n_borders =  int(random.uniform(0,X.shape[0]))\n",
    "            img_left = np.copy(X[i,0,:,:])\n",
    "            img_left[:,:5] = train_rigth_borders[n_borders,:,-5:] #put the rigth side of the rigth border\n",
    "            X_left += [img_left]\n",
    "            y_left += [y_value]\n",
    "            \n",
    "            img_rigth = np.copy(X[i,0,:,:])\n",
    "            img_rigth[:,-5:] = train_left_borders[n_borders,:,:5] #put the left side of the left border\n",
    "            X_rigth += [img_rigth]\n",
    "            y_rigth += [y_value]\n",
    "            \n",
    "    X_left  = np.array(X_left, dtype=np.float16)\n",
    "    X_left  = np.reshape(X_left, (X_left.shape[0], 1, X_left.shape[1], X_left.shape[2]) )\n",
    "    y_left  = np.array(y_left)\n",
    "    X_rigth = np.array(X_rigth, dtype=np.float16)\n",
    "    X_rigth = np.reshape(X_rigth, (X_rigth.shape[0], 1, X_rigth.shape[1], X_rigth.shape[2]) )\n",
    "    y_rigth = np.array(y_rigth)\n",
    "    return X_left, y_left, X_rigth, y_rigth\n",
    "\n"
   ]
  },
  {
   "cell_type": "code",
   "execution_count": 63,
   "metadata": {},
   "outputs": [
    {
     "name": "stdout",
     "output_type": "stream",
     "text": [
      "(259, 1, 64, 64) (259,) (259, 1, 64, 64) (259,)\n"
     ]
    }
   ],
   "source": [
    "# Test\n",
    "X_train_left, y_train_left, X_train_rigth, y_train_rigth = generate_borders_images(X_train[300:315],y_train[300:315])\n",
    "    \n",
    "print( X_train_left.shape, y_train_left.shape, X_train_rigth.shape, y_train_rigth.shape)\n",
    "\n",
    "# f = plt.figure()\n",
    "# for i in range(24):\n",
    "#     a = f.add_subplot(6,4,i)\n",
    "#     plt.imshow(X_train_left[i,0,:,:])\n"
   ]
  },
  {
   "cell_type": "code",
   "execution_count": 64,
   "metadata": {},
   "outputs": [
    {
     "name": "stdout",
     "output_type": "stream",
     "text": [
      "(1293889, 1, 64, 64) (1293889,) (1293889, 1, 64, 64) (1293889,)\n",
      "(325350, 1, 64, 64) (325350,) (325350, 1, 64, 64) (325350,)\n"
     ]
    }
   ],
   "source": [
    "# Join borders to train and test data\n",
    "\n",
    "X_train_left, y_train_left, X_train_rigth, y_train_rigth = generate_borders_images(X_train, y_train)\n",
    "print( X_train_left.shape, y_train_left.shape, X_train_rigth.shape, y_train_rigth.shape)\n",
    "   \n",
    "X_test_left, y_test_left, X_test_rigth, y_test_rigth = generate_borders_images(X_test, y_test)\n",
    "print( X_test_left.shape, y_test_left.shape, X_test_rigth.shape, y_test_rigth.shape)"
   ]
  },
  {
   "cell_type": "code",
   "execution_count": 65,
   "metadata": {},
   "outputs": [
    {
     "name": "stdout",
     "output_type": "stream",
     "text": [
      "(2705457, 1, 64, 64) (2705457,) (2705457, 1, 64, 64) (2705457,)\n",
      "(680133, 1, 64, 64) (680133,) (680133, 1, 64, 64) (680133,)\n"
     ]
    }
   ],
   "source": [
    "#Combine all sources\n",
    "\n",
    "X_train_aug = np.concatenate((X_train, X_train_moved, X_train_left, X_train_rigth),axis=0)\n",
    "y_train_aug = np.concatenate((y_train, y_train_moved, y_train_left, y_train_rigth),axis=0)\n",
    "\n",
    "X_test_aug = np.concatenate((X_test, X_test_moved, X_test_left, X_test_rigth),axis=0)\n",
    "y_test_aug = np.concatenate((y_test, y_test_moved, y_test_left, y_test_rigth),axis=0)\n",
    "\n",
    "print(X_train_aug.shape, y_train_aug.shape, X_train_aug.shape, y_train_aug.shape)\n",
    "print(X_test_aug.shape, y_test_aug.shape, X_test_aug.shape, y_test_aug.shape)"
   ]
  },
  {
   "cell_type": "code",
   "execution_count": 66,
   "metadata": {},
   "outputs": [],
   "source": [
    "#Shuffle train data\n",
    "X_train_aug, y_train_aug = shuffle(X_train_aug, y_train_aug, random_state=0)\n"
   ]
  },
  {
   "cell_type": "code",
   "execution_count": 67,
   "metadata": {},
   "outputs": [],
   "source": [
    "# standarize \n",
    "X_train_aug = (X_train_aug -128.)/ 255.\n",
    "X_test_aug  = (X_test_aug -128.)/ 255.\n",
    "    \n",
    "    \n"
   ]
  },
  {
   "cell_type": "code",
   "execution_count": null,
   "metadata": {},
   "outputs": [],
   "source": [
    "#Check data\n",
    "i=13345\n",
    "print(chr(y_train_aug[i]))\n",
    "plt.imshow(X_train_aug[i,0,:,:])"
   ]
  },
  {
   "cell_type": "code",
   "execution_count": 69,
   "metadata": {},
   "outputs": [],
   "source": [
    "#Save data to hdf5\n",
    "import h5py\n",
    "\n",
    "# hdf5_f = h5py.File(path + \"characters_upcase_lowcase_64x64.hdf5\",mode='a')\n",
    "hdf5_f = h5py.File(path + \"characters_all_64x64.hdf5\",mode='a')\n",
    "\n",
    "if \"X_train_aug\" in hdf5_f:\n",
    "    del hdf5_f[\"X_train_aug\"]\n",
    "hdf5_f.create_dataset(\"X_train_aug\", data = X_train_aug) \n",
    "\n",
    "if \"y_train_aug\" in hdf5_f:\n",
    "    del hdf5_f[\"y_train_aug\"]\n",
    "hdf5_f.create_dataset(\"y_train_aug\", data = y_train_aug)\n",
    "\n",
    "if \"X_test_aug\" in hdf5_f:\n",
    "    del hdf5_f[\"X_test_aug\"]\n",
    "hdf5_f.create_dataset(\"X_test_aug\", data = X_test_aug) \n",
    "\n",
    "if \"y_test_aug\" in hdf5_f:\n",
    "    del hdf5_f[\"y_test_aug\"]\n",
    "hdf5_f.create_dataset(\"y_test_aug\", data = y_test_aug)\n",
    "\n",
    "hdf5_f.close() "
   ]
  },
  {
   "cell_type": "code",
   "execution_count": null,
   "metadata": {},
   "outputs": [],
   "source": []
  },
  {
   "cell_type": "code",
   "execution_count": 70,
   "metadata": {},
   "outputs": [
    {
     "name": "stdout",
     "output_type": "stream",
     "text": [
      "(2705457, 1, 64, 64) (2705457,)\n",
      "(680133, 1, 64, 64) (680133,)\n"
     ]
    }
   ],
   "source": [
    "#Example of cade to load the data generated from hdf5\n",
    "import h5py\n",
    "\n",
    "# hdf5_f = h5py.File(path + \"characters_upcase_lowcase_64x64.hdf5\", mode='r')\n",
    "hdf5_f = h5py.File(path + \"characters_all_64x64.hdf5\", mode='r')\n",
    "\n",
    "X = hdf5_f[\"X_train_aug\"]\n",
    "y = hdf5_f[\"y_train_aug\"]\n",
    "print(X.shape, y.shape)\n",
    "X_train_aug = np.copy(X)\n",
    "y_train_aug = np.copy(y)\n",
    "\n",
    "X = hdf5_f[\"X_test_aug\"]\n",
    "y = hdf5_f[\"y_test_aug\"]\n",
    "print(X.shape, y.shape)\n",
    "X_test_aug = np.copy(X)\n",
    "y_test_aug = np.copy(y)\n",
    "\n",
    "\n",
    "hdf5_f.close()"
   ]
  },
  {
   "cell_type": "code",
   "execution_count": null,
   "metadata": {},
   "outputs": [],
   "source": []
  }
 ],
 "metadata": {
  "kernelspec": {
   "display_name": "MachineLearning",
   "language": "python",
   "name": "machinelearning"
  }
 },
 "nbformat": 4,
 "nbformat_minor": 1
}
